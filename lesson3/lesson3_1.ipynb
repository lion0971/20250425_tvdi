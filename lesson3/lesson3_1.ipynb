{
 "cells": [
  {
   "cell_type": "markdown",
   "id": "37fc7c56",
   "metadata": {},
   "source": [
    "# 讀取檔案"
   ]
  },
  {
   "cell_type": "code",
   "execution_count": null,
   "id": "e0cb19d1",
   "metadata": {},
   "outputs": [],
   "source": [
    "file = open('names.txt',encoding = 'utf-8')\n",
    "content:str = file.read()\n",
    "names:list[str] = content.split()\n",
    "file.close\n",
    "print(names)"
   ]
  },
  {
   "cell_type": "code",
   "execution_count": null,
   "id": "89486252",
   "metadata": {},
   "outputs": [],
   "source": [
    "import random\n",
    "with open('names.txt',encoding='utf-8') as file:\n",
    "  content:str = file.read()\n",
    "  names:list[str] = content.split()\n",
    "  random_names:list[str] = random.sample(names,3)"
   ]
  }
 ],
 "metadata": {
  "kernelspec": {
   "display_name": "flask",
   "language": "python",
   "name": "python3"
  },
  "language_info": {
   "codemirror_mode": {
    "name": "ipython",
    "version": 3
   },
   "file_extension": ".py",
   "mimetype": "text/x-python",
   "name": "python",
   "nbconvert_exporter": "python",
   "pygments_lexer": "ipython3",
   "version": "3.11.11"
  }
 },
 "nbformat": 4,
 "nbformat_minor": 5
}
