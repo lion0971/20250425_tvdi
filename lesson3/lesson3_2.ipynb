{
 "cells": [
  {
   "cell_type": "markdown",
   "id": "b9507583",
   "metadata": {},
   "source": [
    "# 下載internet的資源\n",
    "- 使用第3方套件(requests)"
   ]
  },
  {
   "cell_type": "code",
   "execution_count": null,
   "id": "bd7e2b9a",
   "metadata": {},
   "outputs": [],
   "source": [
    "import requests\n",
    "from requests import Response\n",
    "import csv\n",
    "from io import StringIO\n",
    "\n",
    "url = 'https://data.moenv.gov.tw/api/v2/aqx_p_432?api_key=540e2ca4-41e1-4186-8497-fdd67024ac44&limit=1000&sort=ImportDate desc&format=CSV'\n",
    "\n",
    "response:Response = requests.get(url)\n",
    "file = StringIO(response.text)\n",
    "csv_reader = csv.DictReader(file)\n",
    "aqi:list = list(csv_reader)\n",
    "print(aqi)"
   ]
  },
  {
   "cell_type": "code",
   "execution_count": null,
   "id": "126aa623",
   "metadata": {},
   "outputs": [],
   "source": [
    "for item in aqi:\n",
    "  if item['sitename'] == '永和':\n",
    "    print(item)"
   ]
  }
 ],
 "metadata": {
  "kernelspec": {
   "display_name": "flask",
   "language": "python",
   "name": "python3"
  },
  "language_info": {
   "codemirror_mode": {
    "name": "ipython",
    "version": 3
   },
   "file_extension": ".py",
   "mimetype": "text/x-python",
   "name": "python",
   "nbconvert_exporter": "python",
   "pygments_lexer": "ipython3",
   "version": "3.11.11"
  }
 },
 "nbformat": 4,
 "nbformat_minor": 5
}
