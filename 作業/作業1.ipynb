{
 "cells": [
  {
   "cell_type": "markdown",
   "id": "92f0f491",
   "metadata": {},
   "source": [
    "**請讀取names.txt  \n",
    "將文字儲存於list內  \n",
    "每次執行可以亂數取出3個姓名**"
   ]
  },
  {
   "cell_type": "code",
   "execution_count": 12,
   "id": "5bd48f3a",
   "metadata": {},
   "outputs": [
    {
     "name": "stdout",
     "output_type": "stream",
     "text": [
      "被選中者：\n",
      "崔孝憲\n",
      "葉祖雄\n",
      "李慶亮\n"
     ]
    }
   ],
   "source": [
    "import random\n",
    "with open('names.txt','r',encoding='utf-8') as file:\n",
    "  names = file.readlines()\n",
    "  chosen = random.sample([name.strip() for name in names],3)  \n",
    "print('被選中者：')\n",
    "for i in chosen:\n",
    "  print(i)"
   ]
  },
  {
   "cell_type": "code",
   "execution_count": null,
   "id": "1764e4d2",
   "metadata": {},
   "outputs": [],
   "source": []
  }
 ],
 "metadata": {
  "kernelspec": {
   "display_name": ".venv",
   "language": "python",
   "name": "python3"
  },
  "language_info": {
   "codemirror_mode": {
    "name": "ipython",
    "version": 3
   },
   "file_extension": ".py",
   "mimetype": "text/x-python",
   "name": "python",
   "nbconvert_exporter": "python",
   "pygments_lexer": "ipython3",
   "version": "3.13.2"
  }
 },
 "nbformat": 4,
 "nbformat_minor": 5
}
